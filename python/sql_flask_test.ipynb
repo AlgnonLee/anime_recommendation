{
 "cells": [
  {
   "cell_type": "code",
   "execution_count": 70,
   "metadata": {},
   "outputs": [],
   "source": [
    "import flask\n",
    "import pandas as pd\n",
    "import pymysql as pm\n",
    "from sqlalchemy import create_engine\n",
    "import random\n",
    "from concurrent.futures import ThreadPoolExecutor\n",
    "from scipy.stats import pearsonr\n",
    "import numpy as np"
   ]
  },
  {
   "cell_type": "code",
   "execution_count": null,
   "metadata": {},
   "outputs": [],
   "source": [
    "def getSql(id):\n",
    "    # 创建连接\n",
    "    conn = pm.connect(host='localhost', user='root', password='bz1746578697', database='anime_server_side', charset='utf8')\n",
    "    # 创建游标\n",
    "    cursor = conn.cursor()\n",
    "    # 执行SQL语句\n",
    "    sql = f\"select user_id,anime_id,rating from ratings where user_id = {id} and rating >=6\"\n",
    "    cursor.execute(sql)\n",
    "    # 获取查询结果\n",
    "    results = cursor.fetchall()\n",
    "    # 关闭游标和连接\n",
    "    cursor.close()\n",
    "    conn.close()\n",
    "    list = ['user_id','anime_id','rating']\n",
    "    return pd.DataFrame(results,columns=list)\n"
   ]
  },
  {
   "cell_type": "code",
   "execution_count": 53,
   "metadata": {},
   "outputs": [],
   "source": [
    "anime = pd.read_csv(\"./anime_data/anime.csv\")\n",
    "rating = pd.read_csv(\"./anime_data/rating.csv\")"
   ]
  },
  {
   "cell_type": "code",
   "execution_count": null,
   "metadata": {},
   "outputs": [],
   "source": [
    "rating = rating.drop_duplicates(subset=['user_id', 'anime_id'])\n",
    "rating['rating'] = rating['rating'].clip(lower=random.randint(1,10))\n",
    "user_rating_matrix = rating.pivot(index=\"user_id\",columns=\"anime_id\",values=\"rating\")"
   ]
  },
  {
   "cell_type": "code",
   "execution_count": 78,
   "metadata": {},
   "outputs": [],
   "source": [
    "vector = pd.DataFrame(np.zeros((1,11200)),columns=user_rating_matrix.columns)\n",
    "sqls = getSql(1)\n",
    "for i in range(sqls.shape[0]):\n",
    "    vector[sqls.loc[i]['anime_id']] = sqls.loc[i]['rating']\n",
    "rated_anime_ids = sqls['anime_id'].tolist()\n",
    "# some_list = remove_dumplicate_element(some_list,rated_anime_ids)\n",
    "result = [item + 1 for item in[item[\"rcm_anime_id\"] for item in rcm_result_with_slopeone(rcm_result_protol(rated_anime_ids,find_similiar_user(vector.loc[0],user_rating_matrix),rating),1,sqls)]]"
   ]
  },
  {
   "cell_type": "code",
   "execution_count": 79,
   "metadata": {},
   "outputs": [
    {
     "data": {
      "text/plain": [
       "[540,\n",
       " 478,\n",
       " 535,\n",
       " 1389,\n",
       " 141,\n",
       " 1529,\n",
       " 201,\n",
       " 402,\n",
       " 695,\n",
       " 751,\n",
       " 2640,\n",
       " 3844,\n",
       " 175,\n",
       " 477,\n",
       " 488,\n",
       " 99,\n",
       " 0,\n",
       " 10,\n",
       " 5297]"
      ]
     },
     "execution_count": 79,
     "metadata": {},
     "output_type": "execute_result"
    }
   ],
   "source": []
  },
  {
   "cell_type": "code",
   "execution_count": 49,
   "metadata": {},
   "outputs": [
    {
     "data": {
      "text/plain": [
       "anime_id\n",
       "1       NaN\n",
       "5       NaN\n",
       "6       NaN\n",
       "7       NaN\n",
       "8       NaN\n",
       "         ..\n",
       "34367   NaN\n",
       "34412   NaN\n",
       "34475   NaN\n",
       "34476   NaN\n",
       "34519   NaN\n",
       "Name: 1, Length: 11200, dtype: float64"
      ]
     },
     "execution_count": 49,
     "metadata": {},
     "output_type": "execute_result"
    }
   ],
   "source": [
    "user_rating_matrix.loc[1]"
   ]
  },
  {
   "cell_type": "code",
   "execution_count": 62,
   "metadata": {},
   "outputs": [],
   "source": [
    "def rcm_result_protol(some_anime_id, some_result, df):\n",
    "    def calculate_similarity(anime_id, result):\n",
    "        return {\n",
    "            \"rcm_anime_id\": result,\n",
    "            \"protol_anime_id\": anime_id,\n",
    "            \"weight\": anime_Jaccard(df, anime_id, result),\n",
    "        }\n",
    "\n",
    "    with ThreadPoolExecutor() as executor:\n",
    "        similarity_list = list(executor.map(calculate_similarity, some_anime_id, some_result))\n",
    "\n",
    "    unique_dict = {item[\"rcm_anime_id\"]: item for item in sorted(similarity_list, key=lambda x: x['weight'], reverse=True)}\n",
    "\n",
    "    return list(unique_dict.values())"
   ]
  },
  {
   "cell_type": "markdown",
   "metadata": {},
   "source": [
    "这里要传入的df是getSql之后的ratingdataframe"
   ]
  },
  {
   "cell_type": "code",
   "execution_count": 63,
   "metadata": {},
   "outputs": [],
   "source": [
    "def rcm_result_with_slopeone(some_protol_result,user_id,df):\n",
    "    list = []\n",
    "    for i in range(len(some_protol_result)):\n",
    "        list.append({\n",
    "            \"rcm_anime_id\":some_protol_result[i][\"rcm_anime_id\"],\n",
    "            \"protol_anime_id\":some_protol_result[i][\"protol_anime_id\"],\n",
    "            \"predict_rating\":df.loc[(df['user_id'] == user_id) & (df['anime_id'] == some_protol_result[i][\"protol_anime_id\"])]['rating'].tolist()[0]+anime_rating_deficiency(df,some_protol_result[i]['protol_anime_id'],some_protol_result[i]['rcm_anime_id'])\n",
    "        })\n",
    "    return sorted(list,key=lambda x: x['predict_rating'], reverse=True) \n",
    "    "
   ]
  },
  {
   "cell_type": "code",
   "execution_count": 65,
   "metadata": {},
   "outputs": [],
   "source": [
    "def find_similiar_user(vector, df):\n",
    "    def calculate_pearsonr(row):\n",
    "        vector_or = row.fillna(0)\n",
    "        pc = pearsonr(vector, vector_or)\n",
    "        return pd.Series({\"user_id\": row.name, \"statistic\": pc[0], \"pvalue\": pc[1]})\n",
    "\n",
    "    # 使用 ThreadPoolExecutor 并行计算皮尔逊相关系数\n",
    "    with ThreadPoolExecutor() as executor:\n",
    "        result = list(executor.map(calculate_pearsonr, [row for _, row in df.iterrows()]))\n",
    "\n",
    "    result = pd.DataFrame(result)\n",
    "    sorted_result = result.sort_values(by=\"statistic\", ascending=False)\n",
    "\n",
    "    top_users = sorted_result.head(100)[\"user_id\"].tolist()\n",
    "\n",
    "    # 使用向量化操作替换循环\n",
    "    matrix = df.loc[top_users].fillna(0).values\n",
    "\n",
    "    return pd.DataFrame(matrix).mean().sort_values(ascending=False).index"
   ]
  },
  {
   "cell_type": "code",
   "execution_count": 66,
   "metadata": {},
   "outputs": [],
   "source": [
    "def remove_dumplicate_element(alist,blist):\n",
    "    result = [x for x in alist if x not in blist]\n",
    "    return result"
   ]
  },
  {
   "cell_type": "code",
   "execution_count": 67,
   "metadata": {},
   "outputs": [],
   "source": [
    "def anime_Jaccard(df,anime_x,anime_y):\n",
    "    anime1_users = set(df[df['anime_id'] == anime_x]['user_id'])\n",
    "    anime2_users = set(df[df['anime_id'] == anime_y]['user_id'])\n",
    "    intersection = len(anime1_users.intersection(anime2_users))\n",
    "    union = len(anime1_users.union(anime2_users))\n",
    "    return intersection / union"
   ]
  },
  {
   "cell_type": "code",
   "execution_count": 68,
   "metadata": {},
   "outputs": [],
   "source": [
    "def anime_rating_deficiency(df,anime_x,anime_y):\n",
    "    book1_ratings = df[df['anime_id'] == anime_x]\n",
    "    book2_ratings = df[df['anime_id'] == anime_y]\n",
    "    merged_ratings = pd.merge(book1_ratings, book2_ratings, on='user_id')\n",
    "    return merged_ratings.mean()[\"rating_x\"]-merged_ratings.mean()[\"rating_y\"]"
   ]
  }
 ],
 "metadata": {
  "kernelspec": {
   "display_name": "Python 3",
   "language": "python",
   "name": "python3"
  },
  "language_info": {
   "codemirror_mode": {
    "name": "ipython",
    "version": 3
   },
   "file_extension": ".py",
   "mimetype": "text/x-python",
   "name": "python",
   "nbconvert_exporter": "python",
   "pygments_lexer": "ipython3",
   "version": "3.10.9"
  }
 },
 "nbformat": 4,
 "nbformat_minor": 2
}
