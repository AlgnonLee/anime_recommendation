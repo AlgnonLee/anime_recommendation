{
 "cells": [
  {
   "cell_type": "code",
   "execution_count": null,
   "metadata": {},
   "outputs": [],
   "source": [
    "import numpy as np\n",
    "import pandas as pd\n",
    "import math\n",
    "from scipy.stats import pearsonr\n",
    "import random\n",
    "from concurrent.futures import ThreadPoolExecutor\n",
    "import concurrent"
   ]
  },
  {
   "cell_type": "markdown",
   "metadata": {},
   "source": [
    "返回根据Jaccard系数高低排列的物品序列"
   ]
  },
  {
   "cell_type": "code",
   "execution_count": null,
   "metadata": {},
   "outputs": [],
   "source": [
    "def rcm_result_protol(some_anime_id, some_result, df):\n",
    "    def calculate_similarity(anime_id, result):\n",
    "        return {\n",
    "            \"rcm_anime_id\": result,\n",
    "            \"protol_anime_id\": anime_id,\n",
    "            \"weight\": anime_Jaccard(df, anime_id, result),\n",
    "        }\n",
    "\n",
    "    with ThreadPoolExecutor() as executor:\n",
    "        similarity_list = list(executor.map(calculate_similarity, some_anime_id, some_result))\n",
    "\n",
    "    unique_dict = {item[\"rcm_anime_id\"]: item for item in sorted(similarity_list, key=lambda x: x['weight'], reverse=True)}\n",
    "\n",
    "    return list(unique_dict.values())\n"
   ]
  },
  {
   "cell_type": "markdown",
   "metadata": {},
   "source": [
    "根据Jaccard系数排列的物品序列，通过SlopeOne算法计算其预测评分，在返回根据预测评分高低排列的物品序列"
   ]
  },
  {
   "cell_type": "code",
   "execution_count": null,
   "metadata": {},
   "outputs": [],
   "source": [
    "def rcm_result_with_slopeone(some_protol_result,user_id,df):\n",
    "    list = []\n",
    "    for i in range(len(some_protol_result)):\n",
    "        list.append({\n",
    "            \"rcm_anime_id\":some_protol_result[i][\"rcm_anime_id\"],\n",
    "            \"protol_anime_id\":some_protol_result[i][\"protol_anime_id\"],\n",
    "            \"predict_rating\":df.loc[(df['user_id'] == user_id) & (df['anime_id'] == some_protol_result[i][\"protol_anime_id\"])]['rating'].tolist()[0]+anime_rating_deficiency(df,some_protol_result[i]['protol_anime_id'],some_protol_result[i]['rcm_anime_id'])\n",
    "        })\n",
    "    return sorted(list,key=lambda x: x['predict_rating'], reverse=True) \n",
    "    "
   ]
  },
  {
   "cell_type": "markdown",
   "metadata": {},
   "source": [
    "寻找相似的用户"
   ]
  },
  {
   "cell_type": "code",
   "execution_count": null,
   "metadata": {},
   "outputs": [],
   "source": [
    "def find_similiar_user(vector, df):\n",
    "    def calculate_pearsonr(row):\n",
    "        vector_or = row.fillna(0)\n",
    "        pc = pearsonr(vector, vector_or)\n",
    "        return pd.Series({\"user_id\": row.name, \"statistic\": pc[0], \"pvalue\": pc[1]})\n",
    "\n",
    "    # 使用 ThreadPoolExecutor 并行计算皮尔逊相关系数\n",
    "    with ThreadPoolExecutor() as executor:\n",
    "        result = list(executor.map(calculate_pearsonr, [row for _, row in df.iterrows()]))\n",
    "\n",
    "    result = pd.DataFrame(result)\n",
    "    sorted_result = result.sort_values(by=\"statistic\", ascending=False)\n",
    "\n",
    "    top_users = sorted_result.head(100)[\"user_id\"].tolist()\n",
    "\n",
    "    # 使用向量化操作替换循环\n",
    "    matrix = df.loc[top_users].fillna(0).values\n",
    "\n",
    "    return pd.DataFrame(matrix).mean().sort_values(ascending=False).index\n",
    "\n"
   ]
  },
  {
   "cell_type": "markdown",
   "metadata": {},
   "source": [
    "移除alist中的blist元素"
   ]
  },
  {
   "cell_type": "code",
   "execution_count": null,
   "metadata": {},
   "outputs": [],
   "source": [
    "def remove_dumplicate_element(alist,blist):\n",
    "    result = [x for x in alist if x not in blist]\n",
    "    return result"
   ]
  },
  {
   "cell_type": "markdown",
   "metadata": {},
   "source": [
    "Jaccard系数计算"
   ]
  },
  {
   "cell_type": "code",
   "execution_count": null,
   "metadata": {},
   "outputs": [],
   "source": [
    "def anime_Jaccard(df,anime_x,anime_y):\n",
    "    anime1_users = set(df[df['anime_id'] == anime_x]['user_id'])\n",
    "    anime2_users = set(df[df['anime_id'] == anime_y]['user_id'])\n",
    "    intersection = len(anime1_users.intersection(anime2_users))\n",
    "    union = len(anime1_users.union(anime2_users))\n",
    "    return intersection / union"
   ]
  },
  {
   "cell_type": "markdown",
   "metadata": {},
   "source": [
    "两物体的平均评分差计算"
   ]
  },
  {
   "cell_type": "code",
   "execution_count": null,
   "metadata": {},
   "outputs": [],
   "source": [
    "def anime_rating_deficiency(df,anime_x,anime_y):\n",
    "    book1_ratings = df[df['anime_id'] == anime_x]\n",
    "    book2_ratings = df[df['anime_id'] == anime_y]\n",
    "    merged_ratings = pd.merge(book1_ratings, book2_ratings, on='user_id')\n",
    "    return merged_ratings.mean()[\"rating_x\"]-merged_ratings.mean()[\"rating_y\"]"
   ]
  },
  {
   "cell_type": "markdown",
   "metadata": {},
   "source": [
    "读取数据集"
   ]
  },
  {
   "cell_type": "code",
   "execution_count": null,
   "metadata": {},
   "outputs": [],
   "source": [
    "anime = pd.read_csv(\"./anime_data/anime.csv\")\n",
    "rating = pd.read_csv(\"./anime_data/rating.csv\")"
   ]
  },
  {
   "cell_type": "markdown",
   "metadata": {},
   "source": [
    "组合生成用户-物品-评分表格"
   ]
  },
  {
   "cell_type": "code",
   "execution_count": null,
   "metadata": {},
   "outputs": [],
   "source": [
    "rating = rating.drop_duplicates(subset=['user_id', 'anime_id'])\n",
    "rating['rating'] = rating['rating'].clip(lower=random.randint(1,10))\n",
    "user_rating_matrix = rating.pivot(index=\"user_id\",columns=\"anime_id\",values=\"rating\")"
   ]
  },
  {
   "cell_type": "markdown",
   "metadata": {},
   "source": [
    "获取用户向量"
   ]
  },
  {
   "cell_type": "code",
   "execution_count": null,
   "metadata": {},
   "outputs": [],
   "source": [
    "user_id = 3\n",
    "vector=user_rating_matrix.loc[user_id].fillna(0)"
   ]
  },
  {
   "cell_type": "markdown",
   "metadata": {},
   "source": [
    "获取相似用户的高分animeID以及用户打分及格的animeId"
   ]
  },
  {
   "cell_type": "code",
   "execution_count": null,
   "metadata": {},
   "outputs": [],
   "source": [
    "some_list = find_similiar_user(vector,user_rating_matrix)\n",
    "rated_anime_ids = rating[(rating['user_id'] == user_id)& (rating['rating']>=6)]['anime_id'].tolist()\n",
    "# some_list = remove_dumplicate_element(some_list,rated_anime_ids)"
   ]
  },
  {
   "cell_type": "markdown",
   "metadata": {},
   "source": [
    "根据及格animeID与相似用户高分ID获得推荐列表"
   ]
  },
  {
   "cell_type": "code",
   "execution_count": null,
   "metadata": {},
   "outputs": [],
   "source": [
    "protol_result=rcm_result_protol(rated_anime_ids,some_list,rating)"
   ]
  },
  {
   "cell_type": "code",
   "execution_count": null,
   "metadata": {},
   "outputs": [],
   "source": [
    "final_list = rcm_result_with_slopeone(protol_result,user_id,rating)\n"
   ]
  },
  {
   "cell_type": "code",
   "execution_count": null,
   "metadata": {},
   "outputs": [],
   "source": [
    "result = [item[\"rcm_anime_id\"] for item in final_list]\n",
    "len(set(rated_anime_ids)&set(result))/len(set(rated_anime_ids))"
   ]
  },
  {
   "cell_type": "code",
   "execution_count": null,
   "metadata": {},
   "outputs": [],
   "source": [
    "testList = []\n",
    "for i in range(100):\n",
    "    testList.append(1+i)"
   ]
  },
  {
   "cell_type": "code",
   "execution_count": 24,
   "metadata": {},
   "outputs": [],
   "source": [
    "totalBack = 0\n",
    "i_count = 0\n",
    "for i in range(10):\n",
    "    user_id = testList[i+1]\n",
    "    vector=user_rating_matrix.loc[user_id].fillna(0)\n",
    "    rated_anime_ids = rating[(rating['user_id'] == user_id)& (rating['rating']>=6)]['anime_id'].tolist()\n",
    "    if len(rated_anime_ids) <= 0:\n",
    "        continue\n",
    "    result = [item[\"rcm_anime_id\"] for item in rcm_result_with_slopeone(rcm_result_protol(rated_anime_ids,find_similiar_user(vector,user_rating_matrix),rating),user_id,rating)]\n",
    "    # result = [x + 1 for x in result]\n",
    "    totalBack+=len(set(rated_anime_ids)&set(result))/len(set(rated_anime_ids))\n",
    "    i_count+=1\n"
   ]
  },
  {
   "cell_type": "code",
   "execution_count": 25,
   "metadata": {},
   "outputs": [
    {
     "data": {
      "text/plain": [
       "0.008645622394482227"
      ]
     },
     "execution_count": 25,
     "metadata": {},
     "output_type": "execute_result"
    }
   ],
   "source": [
    "totalBack/i_count"
   ]
  },
  {
   "cell_type": "code",
   "execution_count": null,
   "metadata": {},
   "outputs": [],
   "source": [
    "vector=user_rating_matrix.loc[1].fillna(0)\n",
    "rated_anime_ids = rating[(rating['user_id'] == 1)& (rating['rating']>=6)]['anime_id'].tolist()\n",
    "result = [item[\"rcm_anime_id\"] for item in rcm_result_with_slopeone(rcm_result_protol(rated_anime_ids,find_similiar_user(vector,user_rating_matrix),rating),1,rating)]"
   ]
  },
  {
   "cell_type": "code",
   "execution_count": null,
   "metadata": {},
   "outputs": [],
   "source": [
    "result"
   ]
  }
 ],
 "metadata": {
  "kernelspec": {
   "display_name": "Python 3",
   "language": "python",
   "name": "python3"
  },
  "language_info": {
   "codemirror_mode": {
    "name": "ipython",
    "version": 3
   },
   "file_extension": ".py",
   "mimetype": "text/x-python",
   "name": "python",
   "nbconvert_exporter": "python",
   "pygments_lexer": "ipython3",
   "version": "3.10.9"
  }
 },
 "nbformat": 4,
 "nbformat_minor": 2
}
